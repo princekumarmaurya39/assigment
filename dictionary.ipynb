{
 "cells": [
  {
   "cell_type": "code",
   "execution_count": 1,
   "id": "966d5397-5245-4af3-b832-978360c8f07a",
   "metadata": {},
   "outputs": [],
   "source": [
    "d={}"
   ]
  },
  {
   "cell_type": "code",
   "execution_count": 2,
   "id": "d5a4d38d-e050-452f-82ab-135ecb70ed71",
   "metadata": {},
   "outputs": [
    {
     "data": {
      "text/plain": [
       "dict"
      ]
     },
     "execution_count": 2,
     "metadata": {},
     "output_type": "execute_result"
    }
   ],
   "source": [
    "type(d)"
   ]
  },
  {
   "cell_type": "code",
   "execution_count": 3,
   "id": "4bb01f00-f7ea-4d8d-a117-de996c6ed55a",
   "metadata": {},
   "outputs": [],
   "source": [
    "d1={\"key\":\"prince\"}"
   ]
  },
  {
   "cell_type": "code",
   "execution_count": 4,
   "id": "77916d9c-4bfc-499d-b3d4-e35a62695635",
   "metadata": {},
   "outputs": [
    {
     "data": {
      "text/plain": [
       "{'key': 'prince'}"
      ]
     },
     "execution_count": 4,
     "metadata": {},
     "output_type": "execute_result"
    }
   ],
   "source": [
    "d1"
   ]
  },
  {
   "cell_type": "code",
   "execution_count": 5,
   "id": "475b0ec9-14d4-4196-a917-793e1ae277fc",
   "metadata": {},
   "outputs": [],
   "source": [
    "d2={'name':'prince','email':'princemaurya@gmail.com',\n",
    "'phono.no.':'7634756748'}"
   ]
  },
  {
   "cell_type": "code",
   "execution_count": 6,
   "id": "78d2c85b-df1c-4e2d-97a8-09295c5c82ae",
   "metadata": {},
   "outputs": [
    {
     "data": {
      "text/plain": [
       "{'name': 'prince',\n",
       " 'email': 'princemaurya@gmail.com',\n",
       " 'phono.no.': '7634756748'}"
      ]
     },
     "execution_count": 6,
     "metadata": {},
     "output_type": "execute_result"
    }
   ],
   "source": [
    "d2"
   ]
  },
  {
   "cell_type": "code",
   "execution_count": 9,
   "id": "399a23d6-7d7c-4734-96de-a2c08f95aa59",
   "metadata": {},
   "outputs": [],
   "source": [
    "d3={52635:'prince','@':'jfhj'}"
   ]
  },
  {
   "cell_type": "code",
   "execution_count": null,
   "id": "79d95b48-c8c6-46c6-a75e-efca91a1ced3",
   "metadata": {},
   "outputs": [],
   "source": []
  },
  {
   "cell_type": "code",
   "execution_count": null,
   "id": "6e7479b9-1304-4398-9814-15b171343e47",
   "metadata": {},
   "outputs": [],
   "source": []
  },
  {
   "cell_type": "code",
   "execution_count": 10,
   "id": "83dca686-defa-42f4-8547-f5e930fa88c3",
   "metadata": {},
   "outputs": [
    {
     "data": {
      "text/plain": [
       "{52635: 'prince', '@': 'jfhj'}"
      ]
     },
     "execution_count": 10,
     "metadata": {},
     "output_type": "execute_result"
    }
   ],
   "source": [
    "d3"
   ]
  },
  {
   "cell_type": "code",
   "execution_count": 11,
   "id": "e1ff5202-2e82-452f-94bc-721004b5e6e1",
   "metadata": {},
   "outputs": [
    {
     "data": {
      "text/plain": [
       "'prince'"
      ]
     },
     "execution_count": 11,
     "metadata": {},
     "output_type": "execute_result"
    }
   ],
   "source": [
    "d3[52635]"
   ]
  },
  {
   "cell_type": "code",
   "execution_count": 13,
   "id": "1b28244c-6ca7-4617-a6c2-84eea3c12eb3",
   "metadata": {},
   "outputs": [
    {
     "data": {
      "text/plain": [
       "'jfhj'"
      ]
     },
     "execution_count": 13,
     "metadata": {},
     "output_type": "execute_result"
    }
   ],
   "source": [
    "d3['@']"
   ]
  },
  {
   "cell_type": "code",
   "execution_count": 14,
   "id": "193a45cd-7648-48cd-9d43-2df4286041df",
   "metadata": {},
   "outputs": [],
   "source": [
    "d4={'name':'prince',\"mail\":'princemaurya','name':'princemaurya'}"
   ]
  },
  {
   "cell_type": "code",
   "execution_count": 15,
   "id": "f2f5d8df-ab9e-44a8-8f34-dd0378b323a2",
   "metadata": {},
   "outputs": [
    {
     "data": {
      "text/plain": [
       "{'name': 'princemaurya', 'mail': 'princemaurya'}"
      ]
     },
     "execution_count": 15,
     "metadata": {},
     "output_type": "execute_result"
    }
   ],
   "source": [
    "d4"
   ]
  },
  {
   "cell_type": "code",
   "execution_count": 16,
   "id": "c265d3ff-8a33-42bf-8405-0f53364eb0fb",
   "metadata": {},
   "outputs": [
    {
     "data": {
      "text/plain": [
       "'princemaurya'"
      ]
     },
     "execution_count": 16,
     "metadata": {},
     "output_type": "execute_result"
    }
   ],
   "source": [
    "d4['name']"
   ]
  },
  {
   "cell_type": "code",
   "execution_count": null,
   "id": "fe88e880-3718-4067-92a3-c977bda69803",
   "metadata": {},
   "outputs": [],
   "source": []
  },
  {
   "cell_type": "code",
   "execution_count": null,
   "id": "12f03d7b-980b-48b2-9b48-f3e6011225d7",
   "metadata": {},
   "outputs": [],
   "source": []
  },
  {
   "cell_type": "code",
   "execution_count": 1,
   "id": "248a8025-ce26-4b78-910a-bfdb59ef38f3",
   "metadata": {},
   "outputs": [],
   "source": [
    "d5={'company':'prince','course':['maths','physics','chemistry']}"
   ]
  },
  {
   "cell_type": "code",
   "execution_count": 2,
   "id": "0e2fce7b-c392-43e1-8025-0993c9d6709e",
   "metadata": {},
   "outputs": [
    {
     "data": {
      "text/plain": [
       "{'company': 'prince', 'course': ['maths', 'physics', 'chemistry']}"
      ]
     },
     "execution_count": 2,
     "metadata": {},
     "output_type": "execute_result"
    }
   ],
   "source": [
    "d5"
   ]
  },
  {
   "cell_type": "code",
   "execution_count": 3,
   "id": "a1cdce92-d312-497f-a5a2-893555ee99a1",
   "metadata": {},
   "outputs": [
    {
     "data": {
      "text/plain": [
       "['maths', 'physics', 'chemistry']"
      ]
     },
     "execution_count": 3,
     "metadata": {},
     "output_type": "execute_result"
    }
   ],
   "source": [
    "d5['course']"
   ]
  },
  {
   "cell_type": "code",
   "execution_count": 4,
   "id": "ccf6a024-d914-4960-8052-7932f123e4b6",
   "metadata": {},
   "outputs": [
    {
     "data": {
      "text/plain": [
       "'maths'"
      ]
     },
     "execution_count": 4,
     "metadata": {},
     "output_type": "execute_result"
    }
   ],
   "source": [
    "d5['course'][0]"
   ]
  },
  {
   "cell_type": "code",
   "execution_count": 5,
   "id": "c060b40f-a1c8-421b-b740-18e2bf49f85a",
   "metadata": {},
   "outputs": [
    {
     "data": {
      "text/plain": [
       "'chemistry'"
      ]
     },
     "execution_count": 5,
     "metadata": {},
     "output_type": "execute_result"
    }
   ],
   "source": [
    "d5['course'][2]"
   ]
  },
  {
   "cell_type": "code",
   "execution_count": 7,
   "id": "f6c269d4-e0b8-4bec-87c5-711b3e4b7e13",
   "metadata": {},
   "outputs": [],
   "source": [
    "d6={'name':['prince','kumar','maurya']}"
   ]
  },
  {
   "cell_type": "code",
   "execution_count": 8,
   "id": "2851c1de-fc13-4ad8-813b-1c1ca73f780f",
   "metadata": {},
   "outputs": [
    {
     "data": {
      "text/plain": [
       "{'name': ['prince', 'kumar', 'maurya']}"
      ]
     },
     "execution_count": 8,
     "metadata": {},
     "output_type": "execute_result"
    }
   ],
   "source": [
    "d6"
   ]
  },
  {
   "cell_type": "code",
   "execution_count": 9,
   "id": "c9b58fb9-7e34-437e-9393-87406308082f",
   "metadata": {},
   "outputs": [],
   "source": [
    "d6['prince']=['prince','kumar']"
   ]
  },
  {
   "cell_type": "code",
   "execution_count": 10,
   "id": "ca2a14a6-8c4a-4a6d-afcb-9314712384a7",
   "metadata": {},
   "outputs": [
    {
     "data": {
      "text/plain": [
       "{'name': ['prince', 'kumar', 'maurya'], 'prince': ['prince', 'kumar']}"
      ]
     },
     "execution_count": 10,
     "metadata": {},
     "output_type": "execute_result"
    }
   ],
   "source": [
    "d6"
   ]
  },
  {
   "cell_type": "code",
   "execution_count": 11,
   "id": "2b800c47-2ac0-4bfe-a2c0-13fa33d04566",
   "metadata": {},
   "outputs": [],
   "source": [
    "del d6['name']"
   ]
  },
  {
   "cell_type": "code",
   "execution_count": 12,
   "id": "3d0e27ea-e9d6-48f1-8593-4bbdff7d39a1",
   "metadata": {},
   "outputs": [
    {
     "data": {
      "text/plain": [
       "{'prince': ['prince', 'kumar']}"
      ]
     },
     "execution_count": 12,
     "metadata": {},
     "output_type": "execute_result"
    }
   ],
   "source": [
    "d6"
   ]
  },
  {
   "cell_type": "code",
   "execution_count": null,
   "id": "62b9d154-e485-443b-a3fa-637417083651",
   "metadata": {},
   "outputs": [],
   "source": [
    "list(d6.values())"
   ]
  }
 ],
 "metadata": {
  "kernelspec": {
   "display_name": "Python 3 (ipykernel)",
   "language": "python",
   "name": "python3"
  },
  "language_info": {
   "codemirror_mode": {
    "name": "ipython",
    "version": 3
   },
   "file_extension": ".py",
   "mimetype": "text/x-python",
   "name": "python",
   "nbconvert_exporter": "python",
   "pygments_lexer": "ipython3",
   "version": "3.10.8"
  }
 },
 "nbformat": 4,
 "nbformat_minor": 5
}
